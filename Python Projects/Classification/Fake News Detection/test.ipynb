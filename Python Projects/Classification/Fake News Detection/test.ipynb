{
 "cells": [
  {
   "cell_type": "markdown",
   "id": "75436fbf",
   "metadata": {},
   "source": [
    "# Fake News Detection\n",
    "This notebook compares traditional ML models with BERT for fake news detection using the Fake and Real News dataset from Kaggle.\n",
    "\n",
    "## Models Compared:\n",
    "- Logistic Regression\n",
    "- Random Forest\n",
    "- Support Vector Classifier (SVC)\n",
    "- BERT (Hugging Face Transformers)\n",
    "\n",
    "## Metrics:\n",
    "- Accuracy\n",
    "- Precision, Recall, F1-score\n",
    "- ROC-AUC\n",
    "- Confusion Matrix"
   ]
  },
  {
   "cell_type": "markdown",
   "id": "3d93d23b",
   "metadata": {},
   "source": [
    "# Import Libraries"
   ]
  },
  {
   "cell_type": "code",
   "execution_count": 1,
   "id": "6c4fbc34",
   "metadata": {},
   "outputs": [
    {
     "name": "stderr",
     "output_type": "stream",
     "text": [
      "c:\\Users\\User\\Documents\\Portfolio Projects\\Learning-Projects\\.venv\\lib\\site-packages\\tqdm\\auto.py:21: TqdmWarning: IProgress not found. Please update jupyter and ipywidgets. See https://ipywidgets.readthedocs.io/en/stable/user_install.html\n",
      "  from .autonotebook import tqdm as notebook_tqdm\n",
      "[nltk_data] Error loading stopwords: <urlopen error [Errno 11001]\n",
      "[nltk_data]     getaddrinfo failed>\n",
      "[nltk_data] Error loading wordnet: <urlopen error [Errno 11001]\n",
      "[nltk_data]     getaddrinfo failed>\n"
     ]
    },
    {
     "data": {
      "text/plain": [
       "False"
      ]
     },
     "execution_count": 1,
     "metadata": {},
     "output_type": "execute_result"
    }
   ],
   "source": [
    "import pandas as pd\n",
    "import numpy as np\n",
    "import re\n",
    "import torch\n",
    "import re\n",
    "import string\n",
    "import seaborn as sns\n",
    "import matplotlib.pyplot as plt\n",
    "from tqdm import tqdm\n",
    "from sklearn.model_selection import train_test_split, GridSearchCV\n",
    "from sklearn.feature_extraction.text import TfidfVectorizer\n",
    "from sklearn.linear_model import LogisticRegression\n",
    "from sklearn.ensemble import RandomForestClassifier\n",
    "from sklearn.svm import SVC\n",
    "from sklearn.metrics import classification_report, confusion_matrix, roc_auc_score, roc_curve, accuracy_score\n",
    "from torch.utils.data import Dataset, DataLoader\n",
    "from transformers import BertTokenizer, BertForSequenceClassification, AdamW, get_scheduler\n",
    "import nltk\n",
    "from nltk.corpus import stopwords\n",
    "from nltk.stem import WordNetLemmatizer\n",
    "nltk.download('stopwords')\n",
    "nltk.download('wordnet')"
   ]
  },
  {
   "cell_type": "markdown",
   "id": "1bdd88ba",
   "metadata": {},
   "source": [
    "# Load Dataset"
   ]
  },
  {
   "cell_type": "code",
   "execution_count": 2,
   "id": "a038c977",
   "metadata": {},
   "outputs": [],
   "source": [
    "df_fake = pd.read_csv(\"Fake.csv\")\n",
    "df_real = pd.read_csv(\"True.csv\")\n",
    "\n",
    "df_fake['label'] = 0\n",
    "df_real['label'] = 1\n",
    "\n",
    "full_df = pd.concat([df_fake, df_real], ignore_index=True)\n",
    "full_df = full_df.sample(frac=1).reset_index(drop=True)"
   ]
  },
  {
   "cell_type": "code",
   "execution_count": null,
   "id": "8cc1e2ee",
   "metadata": {},
   "outputs": [],
   "source": [
    "# data = df.sample(1000).drop(columns=[\"title\", \"subject\", \"date\"])"
   ]
  },
  {
   "cell_type": "code",
   "execution_count": 3,
   "id": "045d9329",
   "metadata": {},
   "outputs": [
    {
     "data": {
      "text/html": [
       "<div>\n",
       "<style scoped>\n",
       "    .dataframe tbody tr th:only-of-type {\n",
       "        vertical-align: middle;\n",
       "    }\n",
       "\n",
       "    .dataframe tbody tr th {\n",
       "        vertical-align: top;\n",
       "    }\n",
       "\n",
       "    .dataframe thead th {\n",
       "        text-align: right;\n",
       "    }\n",
       "</style>\n",
       "<table border=\"1\" class=\"dataframe\">\n",
       "  <thead>\n",
       "    <tr style=\"text-align: right;\">\n",
       "      <th></th>\n",
       "      <th>title</th>\n",
       "      <th>text</th>\n",
       "      <th>subject</th>\n",
       "      <th>date</th>\n",
       "      <th>label</th>\n",
       "    </tr>\n",
       "  </thead>\n",
       "  <tbody>\n",
       "    <tr>\n",
       "      <th>0</th>\n",
       "      <td>(VIDEO) MOM OF THE YEAR! WHEN YOUR MOM CATCHES...</td>\n",
       "      <td></td>\n",
       "      <td>left-news</td>\n",
       "      <td>Apr 27, 2015</td>\n",
       "      <td>0</td>\n",
       "    </tr>\n",
       "    <tr>\n",
       "      <th>1</th>\n",
       "      <td>EU drugs agency, seeking staff, warns of Brexi...</td>\n",
       "      <td>LONDON (Reuters) - Europe s drugs regulator ha...</td>\n",
       "      <td>worldnews</td>\n",
       "      <td>October 6, 2017</td>\n",
       "      <td>1</td>\n",
       "    </tr>\n",
       "    <tr>\n",
       "      <th>2</th>\n",
       "      <td>Myanmar military appoints general to probe mas...</td>\n",
       "      <td>YANGON (Reuters) - Myanmar s army said on Wedn...</td>\n",
       "      <td>worldnews</td>\n",
       "      <td>December 20, 2017</td>\n",
       "      <td>1</td>\n",
       "    </tr>\n",
       "    <tr>\n",
       "      <th>3</th>\n",
       "      <td>States discussing lawsuit over Trump immigrati...</td>\n",
       "      <td>(Reuters) - A group of state attorneys general...</td>\n",
       "      <td>politicsNews</td>\n",
       "      <td>January 29, 2017</td>\n",
       "      <td>1</td>\n",
       "    </tr>\n",
       "    <tr>\n",
       "      <th>4</th>\n",
       "      <td>Trump’s First Government Agency Visit: CIA</td>\n",
       "      <td>RT . President Donald Trump spoke at CIA Head...</td>\n",
       "      <td>Middle-east</td>\n",
       "      <td>January 22, 2017</td>\n",
       "      <td>0</td>\n",
       "    </tr>\n",
       "  </tbody>\n",
       "</table>\n",
       "</div>"
      ],
      "text/plain": [
       "                                               title  \\\n",
       "0  (VIDEO) MOM OF THE YEAR! WHEN YOUR MOM CATCHES...   \n",
       "1  EU drugs agency, seeking staff, warns of Brexi...   \n",
       "2  Myanmar military appoints general to probe mas...   \n",
       "3  States discussing lawsuit over Trump immigrati...   \n",
       "4         Trump’s First Government Agency Visit: CIA   \n",
       "\n",
       "                                                text       subject  \\\n",
       "0                                                        left-news   \n",
       "1  LONDON (Reuters) - Europe s drugs regulator ha...     worldnews   \n",
       "2  YANGON (Reuters) - Myanmar s army said on Wedn...     worldnews   \n",
       "3  (Reuters) - A group of state attorneys general...  politicsNews   \n",
       "4   RT . President Donald Trump spoke at CIA Head...   Middle-east   \n",
       "\n",
       "                 date  label  \n",
       "0        Apr 27, 2015      0  \n",
       "1    October 6, 2017       1  \n",
       "2  December 20, 2017       1  \n",
       "3   January 29, 2017       1  \n",
       "4    January 22, 2017      0  "
      ]
     },
     "execution_count": 3,
     "metadata": {},
     "output_type": "execute_result"
    }
   ],
   "source": [
    "full_df.head()"
   ]
  },
  {
   "cell_type": "code",
   "execution_count": 5,
   "id": "be154d71",
   "metadata": {},
   "outputs": [
    {
     "data": {
      "text/plain": [
       "(44898, 5)"
      ]
     },
     "execution_count": 5,
     "metadata": {},
     "output_type": "execute_result"
    }
   ],
   "source": [
    "full_df.shape"
   ]
  },
  {
   "cell_type": "markdown",
   "id": "9bdde4e3",
   "metadata": {},
   "source": [
    "# EDA"
   ]
  },
  {
   "cell_type": "code",
   "execution_count": 6,
   "id": "aaebce7c",
   "metadata": {},
   "outputs": [
    {
     "name": "stdout",
     "output_type": "stream",
     "text": [
      "label\n",
      "0    23481\n",
      "1    21417\n",
      "Name: count, dtype: int64\n"
     ]
    },
    {
     "data": {
      "image/png": "[encoded data removed]",
      "text/plain": [
       "<Figure size 640x480 with 1 Axes>"
      ]
     },
     "metadata": {},
     "output_type": "display_data"
    }
   ],
   "source": [
    "print(full_df['label'].value_counts())\n",
    "sns.countplot(data=full_df, x='label')\n",
    "plt.xticks([0, 1], ['Fake', 'Real'])\n",
    "plt.title(\"Label Distribution\")\n",
    "plt.show()"
   ]
  },
  {
   "cell_type": "markdown",
   "id": "8b4662f9",
   "metadata": {},
   "source": [
    "# Text Preprocessing"
   ]
  },
  {
   "cell_type": "code",
   "execution_count": 7,
   "id": "a8d8ed20",
   "metadata": {},
   "outputs": [],
   "source": [
    "stop_words = set(stopwords.words(\"english\"))\n",
    "lemmatizer = WordNetLemmatizer()\n",
    "\n",
    "def clean_text(text):\n",
    "    text = text.lower()\n",
    "    text = re.sub(r\"http\\S+|www\\S+|https\\S+\", '', text, flags=re.MULTILINE)\n",
    "    text = re.sub(r'\\@w+|\\#','', text)\n",
    "    text = re.sub(r'[^A-Za-z\\s]', '', text)\n",
    "    tokens = text.split()\n",
    "    tokens = [lemmatizer.lemmatize(word) for word in tokens if word not in stop_words]\n",
    "    return \" \".join(tokens)\n",
    "\n",
    "full_df['clean_text'] = full_df['text'].apply(clean_text)"
   ]
  },
  {
   "cell_type": "code",
   "execution_count": 8,
   "id": "5c1b8113",
   "metadata": {},
   "outputs": [
    {
     "data": {
      "text/html": [
       "<div>\n",
       "<style scoped>\n",
       "    .dataframe tbody tr th:only-of-type {\n",
       "        vertical-align: middle;\n",
       "    }\n",
       "\n",
       "    .dataframe tbody tr th {\n",
       "        vertical-align: top;\n",
       "    }\n",
       "\n",
       "    .dataframe thead th {\n",
       "        text-align: right;\n",
       "    }\n",
       "</style>\n",
       "<table border=\"1\" class=\"dataframe\">\n",
       "  <thead>\n",
       "    <tr style=\"text-align: right;\">\n",
       "      <th></th>\n",
       "      <th>title</th>\n",
       "      <th>text</th>\n",
       "      <th>subject</th>\n",
       "      <th>date</th>\n",
       "      <th>label</th>\n",
       "      <th>clean_text</th>\n",
       "    </tr>\n",
       "  </thead>\n",
       "  <tbody>\n",
       "    <tr>\n",
       "      <th>0</th>\n",
       "      <td>(VIDEO) MOM OF THE YEAR! WHEN YOUR MOM CATCHES...</td>\n",
       "      <td></td>\n",
       "      <td>left-news</td>\n",
       "      <td>Apr 27, 2015</td>\n",
       "      <td>0</td>\n",
       "      <td></td>\n",
       "    </tr>\n",
       "    <tr>\n",
       "      <th>1</th>\n",
       "      <td>EU drugs agency, seeking staff, warns of Brexi...</td>\n",
       "      <td>LONDON (Reuters) - Europe s drugs regulator ha...</td>\n",
       "      <td>worldnews</td>\n",
       "      <td>October 6, 2017</td>\n",
       "      <td>1</td>\n",
       "      <td>london reuters europe drug regulator issued mi...</td>\n",
       "    </tr>\n",
       "    <tr>\n",
       "      <th>2</th>\n",
       "      <td>Myanmar military appoints general to probe mas...</td>\n",
       "      <td>YANGON (Reuters) - Myanmar s army said on Wedn...</td>\n",
       "      <td>worldnews</td>\n",
       "      <td>December 20, 2017</td>\n",
       "      <td>1</td>\n",
       "      <td>yangon reuters myanmar army said wednesday app...</td>\n",
       "    </tr>\n",
       "    <tr>\n",
       "      <th>3</th>\n",
       "      <td>States discussing lawsuit over Trump immigrati...</td>\n",
       "      <td>(Reuters) - A group of state attorneys general...</td>\n",
       "      <td>politicsNews</td>\n",
       "      <td>January 29, 2017</td>\n",
       "      <td>1</td>\n",
       "      <td>reuters group state attorney general discussin...</td>\n",
       "    </tr>\n",
       "    <tr>\n",
       "      <th>4</th>\n",
       "      <td>Trump’s First Government Agency Visit: CIA</td>\n",
       "      <td>RT . President Donald Trump spoke at CIA Head...</td>\n",
       "      <td>Middle-east</td>\n",
       "      <td>January 22, 2017</td>\n",
       "      <td>0</td>\n",
       "      <td>rt president donald trump spoke cia headquarte...</td>\n",
       "    </tr>\n",
       "    <tr>\n",
       "      <th>...</th>\n",
       "      <td>...</td>\n",
       "      <td>...</td>\n",
       "      <td>...</td>\n",
       "      <td>...</td>\n",
       "      <td>...</td>\n",
       "      <td>...</td>\n",
       "    </tr>\n",
       "    <tr>\n",
       "      <th>44893</th>\n",
       "      <td>AS TRUMP’S POPULARITY SOARS ABROAD…Village In ...</td>\n",
       "      <td>President Donald Trump welcomed India s Prime ...</td>\n",
       "      <td>left-news</td>\n",
       "      <td>Jun 27, 2017</td>\n",
       "      <td>0</td>\n",
       "      <td>president donald trump welcomed india prime mi...</td>\n",
       "    </tr>\n",
       "    <tr>\n",
       "      <th>44894</th>\n",
       "      <td>CHARLES BARKLEY DROPS TRUTH-BOMB: Blacks, Not ...</td>\n",
       "      <td>It s a dirty, dark secret; I m glad it s comi...</td>\n",
       "      <td>politics</td>\n",
       "      <td>Sep 7, 2016</td>\n",
       "      <td>0</td>\n",
       "      <td>dirty dark secret glad coming wow guess seeing...</td>\n",
       "    </tr>\n",
       "    <tr>\n",
       "      <th>44895</th>\n",
       "      <td>U.S. senators urge NHTSA to accelerate Takata ...</td>\n",
       "      <td>DETROIT/WASHINGTON (Reuters) - U.S. Senators E...</td>\n",
       "      <td>politicsNews</td>\n",
       "      <td>February 24, 2016</td>\n",
       "      <td>1</td>\n",
       "      <td>detroitwashington reuters u senator edward mar...</td>\n",
       "    </tr>\n",
       "    <tr>\n",
       "      <th>44896</th>\n",
       "      <td>Trump Just Threatened To ‘Send In The Feds’ T...</td>\n",
       "      <td>Holy f*ckballs, it hasn t even been a week sin...</td>\n",
       "      <td>News</td>\n",
       "      <td>January 24, 2017</td>\n",
       "      <td>0</td>\n",
       "      <td>holy fckballs even week since president asteri...</td>\n",
       "    </tr>\n",
       "    <tr>\n",
       "      <th>44897</th>\n",
       "      <td>Senator seeks ethics probe of Mnuchin's 'Lego ...</td>\n",
       "      <td>WASHINGTON (Reuters) - The top Democrat on the...</td>\n",
       "      <td>politicsNews</td>\n",
       "      <td>March 28, 2017</td>\n",
       "      <td>1</td>\n",
       "      <td>washington reuters top democrat senate finance...</td>\n",
       "    </tr>\n",
       "  </tbody>\n",
       "</table>\n",
       "<p>44898 rows × 6 columns</p>\n",
       "</div>"
      ],
      "text/plain": [
       "                                                   title  \\\n",
       "0      (VIDEO) MOM OF THE YEAR! WHEN YOUR MOM CATCHES...   \n",
       "1      EU drugs agency, seeking staff, warns of Brexi...   \n",
       "2      Myanmar military appoints general to probe mas...   \n",
       "3      States discussing lawsuit over Trump immigrati...   \n",
       "4             Trump’s First Government Agency Visit: CIA   \n",
       "...                                                  ...   \n",
       "44893  AS TRUMP’S POPULARITY SOARS ABROAD…Village In ...   \n",
       "44894  CHARLES BARKLEY DROPS TRUTH-BOMB: Blacks, Not ...   \n",
       "44895  U.S. senators urge NHTSA to accelerate Takata ...   \n",
       "44896   Trump Just Threatened To ‘Send In The Feds’ T...   \n",
       "44897  Senator seeks ethics probe of Mnuchin's 'Lego ...   \n",
       "\n",
       "                                                    text       subject  \\\n",
       "0                                                            left-news   \n",
       "1      LONDON (Reuters) - Europe s drugs regulator ha...     worldnews   \n",
       "2      YANGON (Reuters) - Myanmar s army said on Wedn...     worldnews   \n",
       "3      (Reuters) - A group of state attorneys general...  politicsNews   \n",
       "4       RT . President Donald Trump spoke at CIA Head...   Middle-east   \n",
       "...                                                  ...           ...   \n",
       "44893  President Donald Trump welcomed India s Prime ...     left-news   \n",
       "44894   It s a dirty, dark secret; I m glad it s comi...      politics   \n",
       "44895  DETROIT/WASHINGTON (Reuters) - U.S. Senators E...  politicsNews   \n",
       "44896  Holy f*ckballs, it hasn t even been a week sin...          News   \n",
       "44897  WASHINGTON (Reuters) - The top Democrat on the...  politicsNews   \n",
       "\n",
       "                     date  label  \\\n",
       "0            Apr 27, 2015      0   \n",
       "1        October 6, 2017       1   \n",
       "2      December 20, 2017       1   \n",
       "3       January 29, 2017       1   \n",
       "4        January 22, 2017      0   \n",
       "...                   ...    ...   \n",
       "44893        Jun 27, 2017      0   \n",
       "44894         Sep 7, 2016      0   \n",
       "44895  February 24, 2016       1   \n",
       "44896    January 24, 2017      0   \n",
       "44897     March 28, 2017       1   \n",
       "\n",
       "                                              clean_text  \n",
       "0                                                         \n",
       "1      london reuters europe drug regulator issued mi...  \n",
       "2      yangon reuters myanmar army said wednesday app...  \n",
       "3      reuters group state attorney general discussin...  \n",
       "4      rt president donald trump spoke cia headquarte...  \n",
       "...                                                  ...  \n",
       "44893  president donald trump welcomed india prime mi...  \n",
       "44894  dirty dark secret glad coming wow guess seeing...  \n",
       "44895  detroitwashington reuters u senator edward mar...  \n",
       "44896  holy fckballs even week since president asteri...  \n",
       "44897  washington reuters top democrat senate finance...  \n",
       "\n",
       "[44898 rows x 6 columns]"
      ]
     },
     "execution_count": 8,
     "metadata": {},
     "output_type": "execute_result"
    }
   ],
   "source": [
    "full_df"
   ]
  },
  {
   "cell_type": "markdown",
   "id": "bd6d7a96",
   "metadata": {},
   "source": [
    "# Train/Test Split"
   ]
  },
  {
   "cell_type": "code",
   "execution_count": 9,
   "id": "109343d0",
   "metadata": {},
   "outputs": [],
   "source": [
    "X_train, X_test, y_train, y_test = train_test_split(\n",
    "    full_df['clean_text'], full_df['label'], test_size=0.2, random_state=42\n",
    ")"
   ]
  },
  {
   "cell_type": "markdown",
   "id": "a286e373",
   "metadata": {},
   "source": [
    "# Vectorization with TF-IDF"
   ]
  },
  {
   "cell_type": "code",
   "execution_count": 10,
   "id": "96fd7397",
   "metadata": {},
   "outputs": [],
   "source": [
    "tfidf = TfidfVectorizer(max_features=5000)\n",
    "X_train_tfidf = tfidf.fit_transform(X_train)\n",
    "X_test_tfidf = tfidf.transform(X_test)"
   ]
  },
  {
   "cell_type": "markdown",
   "id": "25fa06c8",
   "metadata": {},
   "source": [
    "# Model Training"
   ]
  },
  {
   "cell_type": "markdown",
   "id": "f2066d70",
   "metadata": {},
   "source": [
    "## Logistic Regression"
   ]
  },
  {
   "cell_type": "code",
   "execution_count": null,
   "metadata": {},
   "outputs": [
    {
     "name": "stdout",
     "output_type": "stream",
     "text": [
      "\n",
      "Logistic Regression Classification Report:\n",
      "              precision    recall  f1-score   support\n",
      "\n",
      "           0       0.99      0.99      0.99      4694\n",
      "           1       0.99      0.99      0.99      4286\n",
      "\n",
      "    accuracy                           0.99      8980\n",
      "   macro avg       0.99      0.99      0.99      8980\n",
      "weighted avg       0.99      0.99      0.99      8980\n",
      "\n",
      "\n",
      "Random Forest Classification Report:\n",
      "              precision    recall  f1-score   support\n",
      "\n",
      "           0       1.00      1.00      1.00      4694\n",
      "           1       1.00      1.00      1.00      4286\n",
      "\n",
      "    accuracy                           1.00      8980\n",
      "   macro avg       1.00      1.00      1.00      8980\n",
      "weighted avg       1.00      1.00      1.00      8980\n",
      "\n"
     ]
    }
   ],
   "source": [
    "# 🤖 Classical Models with Hyperparameter Tuning\n",
    "models = {\n",
    "    \"Logistic Regression\": (LogisticRegression(), {'C': [0.1, 1, 10]}),\n",
    "    \"Random Forest\": (RandomForestClassifier(), {'n_estimators': [100, 200]}),\n",
    "    \"SVC\": (SVC(probability=True), {'C': [0.5, 1, 2]})\n",
    "}\n",
    "\n",
    "results = {}\n",
    "for name, (model, params) in models.items():\n",
    "    grid = GridSearchCV(model, params, cv=3, scoring='f1', verbose=0)\n",
    "    grid.fit(X_train_tfidf, y_train)\n",
    "    best_model = grid.best_estimator_\n",
    "    y_pred = best_model.predict(X_test_tfidf)\n",
    "    y_proba = best_model.predict_proba(X_test_tfidf)[:, 1]\n",
    "    print(f\"\\n{name} Classification Report:\")\n",
    "    print(classification_report(y_test, y_pred))\n",
    "    results[name] = {\n",
    "        'accuracy': accuracy_score(y_test, y_pred),\n",
    "        'f1': grid.best_score_,\n",
    "        'auc': roc_auc_score(y_test, y_proba)\n",
    "    }"
   ]
  },
  {
   "cell_type": "markdown",
   "id": "eacc4e89",
   "metadata": {},
   "source": [
    "# Evaluation"
   ]
  },
  {
   "cell_type": "code",
   "execution_count": null,
   "id": "d6ee9017",
   "metadata": {},
   "outputs": [],
   "source": [
    "print(classification_report(y_test, y_pred))\n",
    "print(\"ROC AUC Score:\", roc_auc_score(y_test, y_proba))\n",
    "\n",
    "conf_matrix = confusion_matrix(y_test, y_pred)\n",
    "sns.heatmap(conf_matrix, annot=True, fmt='d', cmap='Blues')\n",
    "plt.xlabel(\"Predicted\")\n",
    "plt.ylabel(\"Actual\")\n",
    "plt.title(\"Confusion Matrix\")\n",
    "plt.show()\n",
    "\n",
    "fpr, tpr, _ = roc_curve(y_test, y_proba)\n",
    "plt.plot(fpr, tpr, label='Logistic Regression')\n",
    "plt.plot([0, 1], [0, 1], 'k--')\n",
    "plt.xlabel('False Positive Rate')\n",
    "plt.ylabel('True Positive Rate')\n",
    "plt.title('ROC Curve')\n",
    "plt.legend()\n",
    "plt.show()"
   ]
  }
 ],
 "metadata": {
  "kernelspec": {
   "display_name": ".venv",
   "language": "python",
   "name": "python3"
  },
  "language_info": {
   "codemirror_mode": {
    "name": "ipython",
    "version": 3
   },
   "file_extension": ".py",
   "mimetype": "text/x-python",
   "name": "python",
   "nbconvert_exporter": "python",
   "pygments_lexer": "ipython3",
   "version": "3.9.11"
  }
 },
 "nbformat": 4,
 "nbformat_minor": 5
}
